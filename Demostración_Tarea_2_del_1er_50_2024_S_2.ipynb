{
  "nbformat": 4,
  "nbformat_minor": 0,
  "metadata": {
    "colab": {
      "provenance": [],
      "authorship_tag": "ABX9TyM2lgtT0AXgLWfWFgIIi0mf",
      "include_colab_link": true
    },
    "kernelspec": {
      "name": "python3",
      "display_name": "Python 3"
    },
    "language_info": {
      "name": "python"
    }
  },
  "cells": [
    {
      "cell_type": "markdown",
      "metadata": {
        "id": "view-in-github",
        "colab_type": "text"
      },
      "source": [
        "<a href=\"https://colab.research.google.com/github/justorfc/Demo_Tarea_2_1er_50/blob/Ejercicio-3-Construcci%C3%B3n-de-Ventanas/Demostraci%C3%B3n_Tarea_2_del_1er_50_2024_S_2.ipynb\" target=\"_parent\"><img src=\"https://colab.research.google.com/assets/colab-badge.svg\" alt=\"Open In Colab\"/></a>"
      ]
    },
    {
      "cell_type": "markdown",
      "source": [
        "# **Ejercicios para demostrar la Tarea 2 del 1er 50%**\n",
        "\n",
        "INTEGRANTES:\n",
        "\n",
        "1.   Elemento de la lista\n",
        "2.   Elemento de la lista\n",
        "\n"
      ],
      "metadata": {
        "id": "3ZC5QCUxPUyy"
      }
    },
    {
      "cell_type": "markdown",
      "source": [
        "## Ejercicio 3 Construcción de Ventanas\n",
        "\n",
        "[UN SIMPLE PROBLEMA: CONSTRUCCION DE VENTANAS ](https://docs.google.com/document/d/15DZ-QVMJnQAoL38Ln7DRBa-as9Z4M5R0/edit?usp=sharing&ouid=115090580121117021820&rtpof=true&sd=true)\n",
        "\n",
        "## **UN SIMPLE PROBLEMA: CONSTRUCCION DE VENTANAS**\n",
        "\n",
        "Rob Miles CSharp Yellow Book 2012 © Rob Miles 2011 Department of Computer Science, The University of Hull.\n",
        "\n",
        "## **PLANTEAMIENTO DEL PROBLEMA**.\n",
        "\n",
        "Se requiere desarrollar un aplicativo que calcule los costos de materiales de un fabricante de ventanas. El fabricante desea ingresar las dimensiones de la ventana a fabricar, en metros, y a partir de allí el aplicativo deberá generar una salida de los costos para fabricar la ventana en términos de la cantidad de madera y vidrio necesario. El fabricante compra la madera en pies de longitud (1 m=3.25”). El programa deberá dar la longitud de la madera necesaria en pies de longitud.\n",
        "\n",
        "## **PROBANDO EL PROGRAMA**.\n",
        "\n",
        "Si deseo una ventana de 2 metros de alto y 1 metro de ancho, el programa debería decirme que necesito 4 metros cuadrados de vidrio y 19.5 pies de madera.\n",
        "\n",
        "## **PONIENDO MAS DETALLES**\n",
        "\n",
        "El fabricante desea que el programa controle las siguientes restricciones:\n",
        "1. El área del vidrio requerido para la ventana debe ser en metros cuadrados.\n",
        "2. Las ventanas son de doble vidrio, de modo que cada ventana requiere dos láminas.\n",
        "3. La longitud de la madera requerida para el marco debe ser dada en pies.\n"
      ],
      "metadata": {
        "id": "EI4FrVBKJfEs"
      }
    },
    {
      "cell_type": "code",
      "source": [
        "# prompt: Escribe código de Python que resuelva el ejercicio: \"UN SIMPLE PROBLEMA: CONSTRUCCION DE VENTANAS\", por favor no utilices funciones definidas por el usuario\n",
        "\n",
        "alto = float(input(\"Ingrese el alto de la ventana en metros: \"))\n",
        "ancho = float(input(\"Ingrese el ancho de la ventana en metros: \"))\n",
        "\n",
        "# Calcula el área del vidrio necesario\n",
        "area_vidrio = alto * ancho * 2  # Las ventanas tienen doble vidrio\n",
        "\n",
        "# Calcula la longitud de la madera necesaria en metros\n",
        "longitud_madera_metros = 2 * (alto + ancho)\n",
        "\n",
        "# Convierte la longitud de la madera a pies\n",
        "longitud_madera_pies = longitud_madera_metros * 3.25\n",
        "\n",
        "# Imprime los resultados\n",
        "print(\"Area de vidrio requerida:\", area_vidrio, \"metros cuadrados\")\n",
        "print(\"Longitud de madera requerida:\", longitud_madera_pies, \"pies\")\n"
      ],
      "metadata": {
        "id": "olhGJ7LE1LWl",
        "colab": {
          "base_uri": "https://localhost:8080/"
        },
        "outputId": "a33932fa-5945-45b4-c87c-8b7cfd297cd6"
      },
      "execution_count": 1,
      "outputs": [
        {
          "output_type": "stream",
          "name": "stdout",
          "text": [
            "Ingrese el alto de la ventana en metros: 2\n",
            "Ingrese el ancho de la ventana en metros: 1\n",
            "Area de vidrio requerida: 4.0 metros cuadrados\n",
            "Longitud de madera requerida: 19.5 pies\n"
          ]
        }
      ]
    },
    {
      "cell_type": "code",
      "source": [
        "# prompt: Escribe el código anterior utilizando funciones predefinidas por el usuario\n",
        "\n",
        "def calcular_area_vidrio(alto, ancho):\n",
        "  \"\"\"Calcula el área de vidrio necesaria para una ventana de doble vidrio.\"\"\"\n",
        "  return alto * ancho * 2\n",
        "\n",
        "def calcular_longitud_madera(alto, ancho):\n",
        "  \"\"\"Calcula la longitud de madera necesaria para el marco de la ventana en pies.\"\"\"\n",
        "  longitud_metros = 2 * (alto + ancho)\n",
        "  return longitud_metros * 3.25\n",
        "\n",
        "# Solicitar al usuario las dimensiones de la ventana\n",
        "alto = float(input(\"Ingrese el alto de la ventana en metros: \"))\n",
        "ancho = float(input(\"Ingrese el ancho de la ventana en metros: \"))\n",
        "\n",
        "# Calcular el área de vidrio y la longitud de madera utilizando las funciones\n",
        "area_vidrio = calcular_area_vidrio(alto, ancho)\n",
        "longitud_madera = calcular_longitud_madera(alto, ancho)\n",
        "\n",
        "# Imprimir los resultados\n",
        "print(\"Area de vidrio requerida:\", area_vidrio, \"metros cuadrados\")\n",
        "print(\"Longitud de madera requerida:\", longitud_madera, \"pies\")\n"
      ],
      "metadata": {
        "colab": {
          "base_uri": "https://localhost:8080/"
        },
        "id": "auJf9t4_RF6q",
        "outputId": "316da39a-3580-435e-c1ee-a3c65d25e09e"
      },
      "execution_count": 2,
      "outputs": [
        {
          "output_type": "stream",
          "name": "stdout",
          "text": [
            "Ingrese el alto de la ventana en metros: 2\n",
            "Ingrese el ancho de la ventana en metros: 1\n",
            "Area de vidrio requerida: 4.0 metros cuadrados\n",
            "Longitud de madera requerida: 19.5 pies\n"
          ]
        }
      ]
    },
    {
      "cell_type": "markdown",
      "source": [
        "## Ejercicio 4 Construcción de Secadores Solares\n",
        "\n",
        "[EFICIENCIAS_SECADOR_SOLAR](https://docs.google.com/spreadsheets/d/1HOwH81S8jgQYQj9c3P-vpj0_gpliJlbo/edit?usp=sharing&ouid=115090580121117021820&rtpof=true&sd=true)"
      ],
      "metadata": {
        "id": "CFl1j5SLMXcO"
      }
    },
    {
      "cell_type": "code",
      "source": [],
      "metadata": {
        "id": "g_J7YAV11M3q"
      },
      "execution_count": null,
      "outputs": []
    }
  ]
}